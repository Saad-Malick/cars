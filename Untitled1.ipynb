{
  "nbformat": 4,
  "nbformat_minor": 0,
  "metadata": {
    "colab": {
      "provenance": [],
      "authorship_tag": "ABX9TyNL9SPg7vTVH6grYUMEqra2",
      "include_colab_link": true
    },
    "kernelspec": {
      "name": "python3",
      "display_name": "Python 3"
    },
    "language_info": {
      "name": "python"
    }
  },
  "cells": [
    {
      "cell_type": "markdown",
      "metadata": {
        "id": "view-in-github",
        "colab_type": "text"
      },
      "source": [
        "<a href=\"https://colab.research.google.com/github/Saad-Malick/cars/blob/main/Untitled1.ipynb\" target=\"_parent\"><img src=\"https://colab.research.google.com/assets/colab-badge.svg\" alt=\"Open In Colab\"/></a>"
      ]
    },
    {
      "cell_type": "code",
      "execution_count": null,
      "metadata": {
        "id": "5Dhi_zLHoz-U"
      },
      "outputs": [],
      "source": [
        "class Phone:\n",
        "    def __init__(self, brand, model, price):\n",
        "        self.brand = brand\n",
        "        self.model = model\n",
        "        self.price = price\n",
        "        def buy(self):\n",
        "          print(\"buying a phone\")\n",
        "    class SmartPhone(Phone):\n",
        "      def __init__(self, brand, model, price, os):\n",
        "        super().__init__(brand, model, price)\n",
        "        self.os = os\n",
        "      def buy(self):\n",
        "        print(\"buying a smartphone\")\n",
        "\n",
        "      S= SmartPhone(\"Samsung\", \"Galaxy S21\", 1099, \"Android\")\n",
        "      S.brand()\n",
        "      #child class ke object ke through we will not be able to access the private data members of the parent class"
      ]
    },
    {
      "cell_type": "code",
      "source": [
        "class Phone:\n",
        "    def __init__(self, brand, model, price):\n",
        "        self.brand = brand\n",
        "        self.model = model\n",
        "        self.price = price\n",
        "        def buy(self):\n",
        "          print(\"buying a phone\")\n",
        "        def show():\n",
        "          print.price\n",
        "    class SmartPhone(Phone):\n",
        "      def __init__(self, brand, model, price, os):\n",
        "        super().__init__(brand, model, price)\n",
        "        self.os = os\n",
        "      def buy(self):\n",
        "        print(\"buying a smartphone\")\n",
        "\n",
        "      S= SmartPhone(\"Samsung\", \"Galaxy S21\", 1099, \"Android\")\n",
        "      S.brand()\n",
        "      #child class ke object ke through we will not be able to access the private data members of the parent class"
      ],
      "metadata": {
        "colab": {
          "base_uri": "https://localhost:8080/",
          "height": 332
        },
        "id": "GWY1CVywqCrB",
        "outputId": "4154d704-1fc8-479d-9134-58a1d3e099e3"
      },
      "execution_count": 1,
      "outputs": [
        {
          "output_type": "error",
          "ename": "NameError",
          "evalue": "name 'Phone' is not defined",
          "traceback": [
            "\u001b[0;31m---------------------------------------------------------------------------\u001b[0m",
            "\u001b[0;31mNameError\u001b[0m                                 Traceback (most recent call last)",
            "\u001b[0;32m<ipython-input-1-90cf2913a746>\u001b[0m in \u001b[0;36m<cell line: 1>\u001b[0;34m()\u001b[0m\n\u001b[0;32m----> 1\u001b[0;31m \u001b[0;32mclass\u001b[0m \u001b[0mPhone\u001b[0m\u001b[0;34m:\u001b[0m\u001b[0;34m\u001b[0m\u001b[0;34m\u001b[0m\u001b[0m\n\u001b[0m\u001b[1;32m      2\u001b[0m     \u001b[0;32mdef\u001b[0m \u001b[0m__init__\u001b[0m\u001b[0;34m(\u001b[0m\u001b[0mself\u001b[0m\u001b[0;34m,\u001b[0m \u001b[0mbrand\u001b[0m\u001b[0;34m,\u001b[0m \u001b[0mmodel\u001b[0m\u001b[0;34m,\u001b[0m \u001b[0mprice\u001b[0m\u001b[0;34m)\u001b[0m\u001b[0;34m:\u001b[0m\u001b[0;34m\u001b[0m\u001b[0;34m\u001b[0m\u001b[0m\n\u001b[1;32m      3\u001b[0m         \u001b[0mself\u001b[0m\u001b[0;34m.\u001b[0m\u001b[0mbrand\u001b[0m \u001b[0;34m=\u001b[0m \u001b[0mbrand\u001b[0m\u001b[0;34m\u001b[0m\u001b[0;34m\u001b[0m\u001b[0m\n\u001b[1;32m      4\u001b[0m         \u001b[0mself\u001b[0m\u001b[0;34m.\u001b[0m\u001b[0mmodel\u001b[0m \u001b[0;34m=\u001b[0m \u001b[0mmodel\u001b[0m\u001b[0;34m\u001b[0m\u001b[0;34m\u001b[0m\u001b[0m\n\u001b[1;32m      5\u001b[0m         \u001b[0mself\u001b[0m\u001b[0;34m.\u001b[0m\u001b[0mprice\u001b[0m \u001b[0;34m=\u001b[0m \u001b[0mprice\u001b[0m\u001b[0;34m\u001b[0m\u001b[0;34m\u001b[0m\u001b[0m\n",
            "\u001b[0;32m<ipython-input-1-90cf2913a746>\u001b[0m in \u001b[0;36mPhone\u001b[0;34m()\u001b[0m\n\u001b[1;32m      8\u001b[0m         \u001b[0;32mdef\u001b[0m \u001b[0mshow\u001b[0m\u001b[0;34m(\u001b[0m\u001b[0;34m)\u001b[0m\u001b[0;34m:\u001b[0m\u001b[0;34m\u001b[0m\u001b[0;34m\u001b[0m\u001b[0m\n\u001b[1;32m      9\u001b[0m           \u001b[0mprint\u001b[0m\u001b[0;34m.\u001b[0m\u001b[0mprice\u001b[0m\u001b[0;34m\u001b[0m\u001b[0;34m\u001b[0m\u001b[0m\n\u001b[0;32m---> 10\u001b[0;31m     \u001b[0;32mclass\u001b[0m \u001b[0mSmartPhone\u001b[0m\u001b[0;34m(\u001b[0m\u001b[0mPhone\u001b[0m\u001b[0;34m)\u001b[0m\u001b[0;34m:\u001b[0m\u001b[0;34m\u001b[0m\u001b[0;34m\u001b[0m\u001b[0m\n\u001b[0m\u001b[1;32m     11\u001b[0m       \u001b[0;32mdef\u001b[0m \u001b[0m__init__\u001b[0m\u001b[0;34m(\u001b[0m\u001b[0mself\u001b[0m\u001b[0;34m,\u001b[0m \u001b[0mbrand\u001b[0m\u001b[0;34m,\u001b[0m \u001b[0mmodel\u001b[0m\u001b[0;34m,\u001b[0m \u001b[0mprice\u001b[0m\u001b[0;34m,\u001b[0m \u001b[0mos\u001b[0m\u001b[0;34m)\u001b[0m\u001b[0;34m:\u001b[0m\u001b[0;34m\u001b[0m\u001b[0;34m\u001b[0m\u001b[0m\n\u001b[1;32m     12\u001b[0m         \u001b[0msuper\u001b[0m\u001b[0;34m(\u001b[0m\u001b[0;34m)\u001b[0m\u001b[0;34m.\u001b[0m\u001b[0m__init__\u001b[0m\u001b[0;34m(\u001b[0m\u001b[0mbrand\u001b[0m\u001b[0;34m,\u001b[0m \u001b[0mmodel\u001b[0m\u001b[0;34m,\u001b[0m \u001b[0mprice\u001b[0m\u001b[0;34m)\u001b[0m\u001b[0;34m\u001b[0m\u001b[0;34m\u001b[0m\u001b[0m\n",
            "\u001b[0;31mNameError\u001b[0m: name 'Phone' is not defined"
          ]
        }
      ]
    },
    {
      "cell_type": "code",
      "source": [],
      "metadata": {
        "id": "1Z38RakOrGRa"
      },
      "execution_count": null,
      "outputs": []
    },
    {
      "cell_type": "code",
      "source": [
        "class Phone:\n",
        "    def __init__(self, brand, model, price):\n",
        "        self.brand = brand\n",
        "        self.model = model\n",
        "        self.price = price\n",
        "        def buy(self):\n",
        "          print(\"buying a phone\")\n",
        "    class SmartPhone(Phone):\n",
        "      def __init__(self, brand, model, price, os):\n",
        "        super().__init__(brand, model, price)--\n",
        "        self.os = os\n",
        "      def buy(self):\n",
        "        print(\"buying a smartphone\")\n",
        "        def check(self):\n",
        "          print(self.price)\n",
        "          print(self.os)\n",
        "Smartphone.check()\n",
        "      S= SmartPhone(\"Samsung\", \"Galaxy S21\", 1099, \"Android\")\n",
        "      S.brand()\n",
        "      #child class ke object ke through we will not be able to access the private data members of the parent class"
      ],
      "metadata": {
        "id": "BGa6pLHSqnDn"
      },
      "execution_count": null,
      "outputs": []
    },
    {
      "cell_type": "code",
      "source": [
        " class Parent:\n",
        "  def __init__(self,num):\n",
        "    self.__num=num\n",
        "  def get_num(self):\n",
        "    return self.__num\n",
        "\n",
        "class Child(Parent):\n",
        "  def __init__(self,num,val):\n",
        "    super().__init__(num)\n",
        "  self.__val=val\n",
        "def get_val(self):\n",
        "  return self.__val\n",
        "c=Child(100,200)\n",
        "print(c.get_num())\n",
        "print(c.get_val())"
      ],
      "metadata": {
        "colab": {
          "base_uri": "https://localhost:8080/",
          "height": 106
        },
        "id": "5t-4lM61rKGo",
        "outputId": "eac6f7dd-2b14-4351-dc27-5f93a7c4e42a"
      },
      "execution_count": 2,
      "outputs": [
        {
          "output_type": "error",
          "ename": "SyntaxError",
          "evalue": "expected ':' (<ipython-input-2-ee1d8fe3b03a>, line 7)",
          "traceback": [
            "\u001b[0;36m  File \u001b[0;32m\"<ipython-input-2-ee1d8fe3b03a>\"\u001b[0;36m, line \u001b[0;32m7\u001b[0m\n\u001b[0;31m    class Child(Parent)\u001b[0m\n\u001b[0m                       ^\u001b[0m\n\u001b[0;31mSyntaxError\u001b[0m\u001b[0;31m:\u001b[0m expected ':'\n"
          ]
        }
      ]
    },
    {
      "cell_type": "code",
      "source": [
        " class Parent:\n",
        "  def __init__(self,num):\n",
        "    self.__num=num\n",
        "  def get_num(self):\n",
        "    return self.__num\n",
        "\n",
        "class Child(Parent):\n",
        "  def __init__(self,num,val):\n",
        "    super().__init__(num)\n",
        "  self.var=200\n",
        "def show(self):\n",
        "  print self.num\n",
        ""
      ],
      "metadata": {
        "id": "hnspYi0ssw-2"
      },
      "execution_count": null,
      "outputs": []
    },
    {
      "cell_type": "code",
      "source": [
        "from _typeshed import Self\n",
        "class Parent(Self):\n",
        "  self.__num=100\n",
        "  def show(self):\n",
        "    print(\"Parent\",self.__num)\n",
        "class Child(Parent):\n",
        "  super().__init__()\n",
        "  self.__var=200\n",
        "  def show(self):\n",
        "    print(\"Child\",self.__var)\n",
        "c=Child()\n",
        "c.show()\n"
      ],
      "metadata": {
        "id": "FyajpQpwtH3Y"
      },
      "execution_count": null,
      "outputs": []
    },
    {
      "cell_type": "code",
      "source": [
        "from types import prepare_class\n",
        "#single inheritance\n",
        "from _typeshed import Self\n",
        "class Parent(Self):\n",
        "  Self.__num=100\n",
        "  def show(Self):\n",
        "    print(\"Parent\",Self.__num)\n",
        "class Child(Parent):\n",
        "  super().__init__()\n",
        "  Self.__var=200\n",
        "  def show(Self):\n",
        "    print(\"Child\",Self.__var)\n",
        "c=Child()\n",
        "c.show()\n",
        "#multi level inheritance\n",
        "class Product():\n",
        "  def review(Self):\n",
        "    print(\"Product customer review\")\n",
        "class Phone(Product):\n",
        "  def __init__(S,price,brand,camera):\n",
        "    S.price=price\n",
        "    S.brand=brand\n",
        "    S.camera=camera\n",
        "    pass\n",
        "  #hierarchial\n",
        "  class Phone(Product):\n",
        "    def __init__(S,price,brand,camera):\n",
        "      S.brand=brand\n",
        "      S.camera=camera\n",
        "    pass\n",
        "  class SmartPhone(Phone):\n",
        "    pass\n",
        "  class FeaturePhone(Phone):\n",
        "    pass"
      ],
      "metadata": {
        "colab": {
          "base_uri": "https://localhost:8080/",
          "height": 385
        },
        "id": "Fs2Tno5Qt8_H",
        "outputId": "8611fb95-9ba5-426e-d7fd-e15122bd33ec"
      },
      "execution_count": 3,
      "outputs": [
        {
          "output_type": "error",
          "ename": "ModuleNotFoundError",
          "evalue": "No module named '_typeshed'",
          "traceback": [
            "\u001b[0;31m---------------------------------------------------------------------------\u001b[0m",
            "\u001b[0;31mModuleNotFoundError\u001b[0m                       Traceback (most recent call last)",
            "\u001b[0;32m<ipython-input-3-b98baaf98800>\u001b[0m in \u001b[0;36m<cell line: 3>\u001b[0;34m()\u001b[0m\n\u001b[1;32m      1\u001b[0m \u001b[0;32mfrom\u001b[0m \u001b[0mtypes\u001b[0m \u001b[0;32mimport\u001b[0m \u001b[0mprepare_class\u001b[0m\u001b[0;34m\u001b[0m\u001b[0;34m\u001b[0m\u001b[0m\n\u001b[1;32m      2\u001b[0m \u001b[0;31m#single inheritance\u001b[0m\u001b[0;34m\u001b[0m\u001b[0;34m\u001b[0m\u001b[0m\n\u001b[0;32m----> 3\u001b[0;31m \u001b[0;32mfrom\u001b[0m \u001b[0m_typeshed\u001b[0m \u001b[0;32mimport\u001b[0m \u001b[0mSelf\u001b[0m\u001b[0;34m\u001b[0m\u001b[0;34m\u001b[0m\u001b[0m\n\u001b[0m\u001b[1;32m      4\u001b[0m \u001b[0;32mclass\u001b[0m \u001b[0mParent\u001b[0m\u001b[0;34m(\u001b[0m\u001b[0mSelf\u001b[0m\u001b[0;34m)\u001b[0m\u001b[0;34m:\u001b[0m\u001b[0;34m\u001b[0m\u001b[0;34m\u001b[0m\u001b[0m\n\u001b[1;32m      5\u001b[0m   \u001b[0mSelf\u001b[0m\u001b[0;34m.\u001b[0m\u001b[0m__num\u001b[0m\u001b[0;34m=\u001b[0m\u001b[0;36m100\u001b[0m\u001b[0;34m\u001b[0m\u001b[0;34m\u001b[0m\u001b[0m\n",
            "\u001b[0;31mModuleNotFoundError\u001b[0m: No module named '_typeshed'",
            "",
            "\u001b[0;31m---------------------------------------------------------------------------\u001b[0;32m\nNOTE: If your import is failing due to a missing package, you can\nmanually install dependencies using either !pip or !apt.\n\nTo view examples of installing some common dependencies, click the\n\"Open Examples\" button below.\n\u001b[0;31m---------------------------------------------------------------------------\u001b[0m\n"
          ],
          "errorDetails": {
            "actions": [
              {
                "action": "open_url",
                "actionText": "Open Examples",
                "url": "/notebooks/snippets/importing_libraries.ipynb"
              }
            ]
          }
        }
      ]
    },
    {
      "cell_type": "code",
      "source": [
        "class Phone():\n",
        "    def __init__(S,price,brand,camera):\n",
        "      S.brand=brand\n",
        "      S.camera=camera\n",
        "class Product():\n",
        "  def review(Self):\n",
        "    print(\"Product customer review\")\n",
        "\n",
        "class SmartPhone(Phone,Product):\n",
        "\n",
        "#python does not support overloading\n",
        "#super cannot be used outside a class\n",
        "#super cannot be used to access attributes\n",
        "#multiple inheritance prioritizes the functioning according the order defined\n",
        "#no method overloading"
      ],
      "metadata": {
        "id": "GpxJ6S8AwUFA"
      },
      "execution_count": 5,
      "outputs": []
    },
    {
      "cell_type": "code",
      "source": [
        "#file handling : there can be two kinds of files either textual or binary (either text files or binary)\n",
        "F= open(\"file.txt\",\"w\")\n",
        "for i in range(10):\n",
        "  F.write(\"raha na jaye \")\n",
        "  F.write(\"\\n\")\n",
        "F.close()"
      ],
      "metadata": {
        "id": "dtNqb1HswUYI"
      },
      "execution_count": 10,
      "outputs": []
    }
  ]
}